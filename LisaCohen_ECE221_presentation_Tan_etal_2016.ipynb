{
 "cells": [
  {
   "cell_type": "code",
   "execution_count": 2,
   "metadata": {
    "collapsed": false
   },
   "outputs": [
    {
     "name": "stderr",
     "output_type": "stream",
     "text": [
      "/Users/cohenl06/anaconda/lib/python2.7/site-packages/matplotlib/font_manager.py:273: UserWarning: Matplotlib is building the font cache using fc-list. This may take a moment.\n",
      "  warnings.warn('Matplotlib is building the font cache using fc-list. This may take a moment.')\n"
     ]
    }
   ],
   "source": [
    "import math\n",
    "import pandas as pd\n",
    "%matplotlib inline"
   ]
  },
  {
   "cell_type": "markdown",
   "metadata": {
    "slideshow": {
     "slide_type": "slide"
    }
   },
   "source": [
    "# ADAGE-Based Integration of Publicly Available _Pseudomonas aeruginosa_ Gene Expression Data with Denoising Autoencoders Illuminates Microbe-Host Interactions\n",
    "\n",
    "Tan J, Hammond JH, Hogan DA, Greene CS. 2016, \n",
    "mSystems: Volume 1 Issue 1 e00025-15\n",
    "\n",
    "http://msystems.asm.org/content/1/1/e00025-15\n",
    "\n",
    "Presentation by Lisa Cohen,\n",
    "ECE 221,\n",
    "October 13, 2016"
   ]
  },
  {
   "cell_type": "markdown",
   "metadata": {
    "slideshow": {
     "slide_type": "slide"
    }
   },
   "source": [
    "# Background, importance\n",
    "* Gene expression = mRNAs transcribed from genes prior to translation into protein\n",
    "* Contains information about organism's functioning state and capacity to respond\n",
    "* Less-well-studied organisms (nonmodel) are challenging: how to assign gene annotations?\n",
    "* Yet: **\"One of the great unifying principles of modern biology is that organisms show marked similarity in their major pathways of metabolism.\"** --Garrett & Grisham. Biochemistry\n",
    "* Evolution is giving us a glimpse of what is important\n",
    "* We are in an exciting time! Growing databases of sequences and gene expression data: NCBI-SRA, GEO\n",
    "* Why not use these data to learn?"
   ]
  },
  {
   "cell_type": "markdown",
   "metadata": {
    "slideshow": {
     "slide_type": "slide"
    }
   },
   "source": [
    "# Neural Network - Autoencoder\n",
    "\n",
    "* **ADAGE**: **A**nalysis using **D**enoising **A**utoencoders of **G**ene **E**xpression\n",
    "* Type of unsupervised learning\n",
    "* Input: unlabeled sample _x_ is a vector, no associated metadata\n",
    "* Purpose: extract meaningful features from hidden nodes\n",
    "* Training data\n",
    "* Goal: minimize distance between output and input\n",
    "* Videos: https://youtu.be/FzS3tMl4Nsc, https://www.youtube.com/watch?v=t2NQ_c5BFOc\n"
   ]
  },
  {
   "cell_type": "markdown",
   "metadata": {
    "slideshow": {
     "slide_type": "slide"
    }
   },
   "source": [
    "# This paper - Detail of method\n",
    "* All Affymetrix GeneChips microarray data for _Pseudomonas aeruginosa_ were downloaded from [ArrayExpress database](https://www.ebi.ac.uk/arrayexpress/)\n",
    "* 950 arrays and 109 experiments"
   ]
  },
  {
   "cell_type": "code",
   "execution_count": 13,
   "metadata": {
    "collapsed": false,
    "slideshow": {
     "slide_type": "fragment"
    }
   },
   "outputs": [
    {
     "name": "stdout",
     "output_type": "stream",
     "text": [
      "(5549, 951)\n"
     ]
    }
   ],
   "source": [
    "# original data dimensions\n",
    "compendium = pd.read_table(\"data/inline-supplementary-material-1.txt\",sep=\"\\t\")\n",
    "compendium.head()\n",
    "print compendium.shape"
   ]
  },
  {
   "cell_type": "markdown",
   "metadata": {
    "slideshow": {
     "slide_type": "fragment"
    }
   },
   "source": [
    "* added random noise to corrupt compendium, setting some genes = 0\n",
    "* trained a neural network with hidden nodes\n",
    "* removed added noise and reconstructed original data\n",
    "* The purpose of adding noise is because X = Y is not enough, the point is discovering new features from hidden nodes"
   ]
  },
  {
   "cell_type": "markdown",
   "metadata": {
    "slideshow": {
     "slide_type": "slide"
    }
   },
   "source": [
    "# Denoising Autoencoder - How it works\n",
    "<img src=\"Vincent_2008_Fig1.png\" width=\"800\">\n",
    "[Vincent et al. 2008](https://www.iro.umontreal.ca/~vincentp/Publications/denoising_autoencoders_tr1316.pdf)\n",
    "<img src=\"Vincent_2008_Fig2.png\" width=\"800\">"
   ]
  },
  {
   "cell_type": "markdown",
   "metadata": {
    "collapsed": true,
    "slideshow": {
     "slide_type": "slide"
    }
   },
   "source": [
    "![](Tan_etal_2016_Fig1.png)"
   ]
  },
  {
   "cell_type": "markdown",
   "metadata": {
    "slideshow": {
     "slide_type": "slide"
    }
   },
   "source": [
    "# ADAGE - Algorithm\n",
    "<img src=\"Tan_etal_2016_equations.png\" width=\"1000\">\n",
    "* input = _x_, corrupted input with Weights (W) = _A_, b = bias\n",
    "* apply sigmoid function, s\n",
    "* reconstructed input _z_ by applying s again (W' = transformed)\n",
    "* Lh is likelihood of input _x_ relative to output _z_"
   ]
  },
  {
   "cell_type": "code",
   "execution_count": 14,
   "metadata": {
    "collapsed": false,
    "slideshow": {
     "slide_type": "fragment"
    }
   },
   "outputs": [
    {
     "name": "stdout",
     "output_type": "stream",
     "text": [
      "0.5\n",
      "0.5\n",
      "0.73105857863\n",
      "0.622459331202\n",
      "0.993307149076\n",
      "0.952574126822\n"
     ]
    }
   ],
   "source": [
    "# apply sigmoid function to each sample vector of genes\n",
    "def sigmoid(x):\n",
    "  return 1 / (1 + math.exp(-x))\n",
    "# apply sigmoid function for each gene in node 1..n\n",
    "# approaches 0 for neg x\n",
    "# approaches 1 for pos x \n",
    "# example\n",
    "sample1 = [0,0,1,0.5,5,3]\n",
    "for gene in sample1:\n",
    "    print sigmoid(gene)"
   ]
  },
  {
   "cell_type": "markdown",
   "metadata": {
    "slideshow": {
     "slide_type": "slide"
    }
   },
   "source": [
    "# Figure 2 - ADAGE Weights\n",
    "* Weights - learned vector for each gene via gradient descent - reflected contribution of each gene to the activity of each node\n",
    "* After training, computed activity for each new sample\n",
    "* HW = high weight genes >= 2 standard deviations from mean \n",
    "* e.g. operonic co-membership"
   ]
  },
  {
   "cell_type": "code",
   "execution_count": 10,
   "metadata": {
    "collapsed": false
   },
   "outputs": [
    {
     "name": "stdout",
     "output_type": "stream",
     "text": [
      "(5549, 51)\n"
     ]
    }
   ],
   "source": [
    "# dimensions of Weight matrix, for each node\n",
    "weight_matrix = pd.read_csv(\"data/inline-supplementary-material-2.csv\")\n",
    "weight_matrix.head()\n",
    "print weight_matrix.shape"
   ]
  },
  {
   "cell_type": "markdown",
   "metadata": {
    "slideshow": {
     "slide_type": "slide"
    }
   },
   "source": [
    "\"Cooperonic\" - genes cooperating on same operon, positions in **B** from [Trunk et al. 2010](https://www.ncbi.nlm.nih.gov/pubmed/20553552)\n",
    "![](Tan_etal_2016_Fig2_A_B_C_D.png)"
   ]
  },
  {
   "cell_type": "markdown",
   "metadata": {
    "slideshow": {
     "slide_type": "slide"
    }
   },
   "source": [
    "Capturing functional features, based on Euclidian distance between weight vectors connecting each gene to 50 nodes and assigned the closest neighbor genes' function to the target gene\n",
    "![](Tan_etal_2016_Fig2_E.png)"
   ]
  },
  {
   "cell_type": "code",
   "execution_count": 15,
   "metadata": {
    "collapsed": false,
    "slideshow": {
     "slide_type": "slide"
    }
   },
   "outputs": [
    {
     "name": "stdout",
     "output_type": "stream",
     "text": [
      "(330, 100)\n"
     ]
    }
   ],
   "source": [
    "# high weight (HW) nodes\n",
    "HW = pd.read_csv(\"data/inline-supplementary-material-3.csv\")\n",
    "HW.head()\n",
    "print HW.shape"
   ]
  },
  {
   "cell_type": "code",
   "execution_count": 9,
   "metadata": {
    "collapsed": false,
    "slideshow": {
     "slide_type": "slide"
    }
   },
   "outputs": [
    {
     "data": {
      "text/html": [
       "<div>\n",
       "<table border=\"1\" class=\"dataframe\">\n",
       "  <thead>\n",
       "    <tr style=\"text-align: right;\">\n",
       "      <th></th>\n",
       "      <th>node</th>\n",
       "      <th>operon</th>\n",
       "      <th>q_value</th>\n",
       "    </tr>\n",
       "  </thead>\n",
       "  <tbody>\n",
       "    <tr>\n",
       "      <th>0</th>\n",
       "      <td>node1</td>\n",
       "      <td>PA3327;PA3328;PA3329;PA3330;PA3331;PA3332;PA33...</td>\n",
       "      <td>0.000000</td>\n",
       "    </tr>\n",
       "    <tr>\n",
       "      <th>1</th>\n",
       "      <td>node1</td>\n",
       "      <td>PA4250;PA4251;PA4252;PA4253;PA4254;PA4255;PA42...</td>\n",
       "      <td>0.000000</td>\n",
       "    </tr>\n",
       "    <tr>\n",
       "      <th>2</th>\n",
       "      <td>node1</td>\n",
       "      <td>PA1714;PA1715;PA1716;PA1717;PA1718;PA1719;PA17...</td>\n",
       "      <td>0.000000</td>\n",
       "    </tr>\n",
       "    <tr>\n",
       "      <th>3</th>\n",
       "      <td>node1</td>\n",
       "      <td>PA1806;PA1807;PA1808;PA1809;PA1810;PA1811</td>\n",
       "      <td>0.000000</td>\n",
       "    </tr>\n",
       "    <tr>\n",
       "      <th>4</th>\n",
       "      <td>node1</td>\n",
       "      <td>PA4863;PA4864;PA4865;PA4866;PA4867;PA4868</td>\n",
       "      <td>0.000000</td>\n",
       "    </tr>\n",
       "    <tr>\n",
       "      <th>5</th>\n",
       "      <td>node1</td>\n",
       "      <td>PA4242;PA4243;PA4244;PA4245;PA4246;PA4247;PA42...</td>\n",
       "      <td>0.004228</td>\n",
       "    </tr>\n",
       "    <tr>\n",
       "      <th>6</th>\n",
       "      <td>node1</td>\n",
       "      <td>PA2637;PA2638;PA2639;PA2640;PA2641;PA2642;PA26...</td>\n",
       "      <td>0.000000</td>\n",
       "    </tr>\n",
       "    <tr>\n",
       "      <th>7</th>\n",
       "      <td>node1</td>\n",
       "      <td>PA3799;PA3800;PA3801;PA3802;PA3803;PA3804;PA38...</td>\n",
       "      <td>0.002304</td>\n",
       "    </tr>\n",
       "    <tr>\n",
       "      <th>8</th>\n",
       "      <td>node1</td>\n",
       "      <td>PA0996;PA0997;PA0998;PA0999;PA1000</td>\n",
       "      <td>0.000000</td>\n",
       "    </tr>\n",
       "    <tr>\n",
       "      <th>9</th>\n",
       "      <td>node1</td>\n",
       "      <td>PA2066;PA2067;PA2068;PA2069</td>\n",
       "      <td>0.000000</td>\n",
       "    </tr>\n",
       "    <tr>\n",
       "      <th>10</th>\n",
       "      <td>node1</td>\n",
       "      <td>PA1698;PA1699;PA1700;PA1701;PA1702;PA1703;PA17...</td>\n",
       "      <td>0.006696</td>\n",
       "    </tr>\n",
       "    <tr>\n",
       "      <th>11</th>\n",
       "      <td>node1</td>\n",
       "      <td>PA4773;PA4774;PA4775;PA4776;PA4777</td>\n",
       "      <td>0.002242</td>\n",
       "    </tr>\n",
       "    <tr>\n",
       "      <th>12</th>\n",
       "      <td>node1</td>\n",
       "      <td>PA1900;PA1901;PA1902;PA1903;PA1904;PA1905</td>\n",
       "      <td>0.002169</td>\n",
       "    </tr>\n",
       "    <tr>\n",
       "      <th>13</th>\n",
       "      <td>node1</td>\n",
       "      <td>PA1891;PA1892;PA1893;PA1894;PA1895;PA1896;PA1897</td>\n",
       "      <td>0.006579</td>\n",
       "    </tr>\n",
       "    <tr>\n",
       "      <th>14</th>\n",
       "      <td>node1</td>\n",
       "      <td>PA3070;PA3071;PA3072;PA3073;PA3074;PA3075;PA3076</td>\n",
       "      <td>0.002151</td>\n",
       "    </tr>\n",
       "    <tr>\n",
       "      <th>15</th>\n",
       "      <td>node1</td>\n",
       "      <td>PA1477;PA1478;PA1479;PA1480;PA1481;PA1482;PA1483</td>\n",
       "      <td>0.002179</td>\n",
       "    </tr>\n",
       "    <tr>\n",
       "      <th>16</th>\n",
       "      <td>node1</td>\n",
       "      <td>PA4299;PA4300;PA4301;PA4302;PA4303;PA4304;PA4305</td>\n",
       "      <td>0.010917</td>\n",
       "    </tr>\n",
       "    <tr>\n",
       "      <th>17</th>\n",
       "      <td>node1</td>\n",
       "      <td>PA1656;PA1657;PA1658;PA1659</td>\n",
       "      <td>0.000000</td>\n",
       "    </tr>\n",
       "    <tr>\n",
       "      <th>18</th>\n",
       "      <td>node1</td>\n",
       "      <td>PA3996;PA3997;PA3998;PA3999;PA4000;PA4001;PA40...</td>\n",
       "      <td>0.004525</td>\n",
       "    </tr>\n",
       "    <tr>\n",
       "      <th>19</th>\n",
       "      <td>node1</td>\n",
       "      <td>PA1664;PA1665;PA1666;PA1667;PA1668;PA1669;PA16...</td>\n",
       "      <td>0.010823</td>\n",
       "    </tr>\n",
       "    <tr>\n",
       "      <th>20</th>\n",
       "      <td>node1</td>\n",
       "      <td>PA3515;PA3516;PA3517;PA3518;PA3519</td>\n",
       "      <td>0.004338</td>\n",
       "    </tr>\n",
       "    <tr>\n",
       "      <th>21</th>\n",
       "      <td>node1</td>\n",
       "      <td>PA5553;PA5554;PA5555;PA5556;PA5557;PA5558;PA55...</td>\n",
       "      <td>0.002227</td>\n",
       "    </tr>\n",
       "    <tr>\n",
       "      <th>22</th>\n",
       "      <td>node1</td>\n",
       "      <td>PA2967;PA2968;PA2969;PA2970;PA2971</td>\n",
       "      <td>0.004338</td>\n",
       "    </tr>\n",
       "    <tr>\n",
       "      <th>23</th>\n",
       "      <td>node1</td>\n",
       "      <td>PA3095;PA3096;PA3097;PA3098;PA3099;PA3100;PA31...</td>\n",
       "      <td>0.004608</td>\n",
       "    </tr>\n",
       "    <tr>\n",
       "      <th>24</th>\n",
       "      <td>node1</td>\n",
       "      <td>PA4462;PA4463;PA4464;PA4465;PA4466</td>\n",
       "      <td>0.008772</td>\n",
       "    </tr>\n",
       "    <tr>\n",
       "      <th>25</th>\n",
       "      <td>node1</td>\n",
       "      <td>PA4457;PA4458;PA4459;PA4460;PA4461</td>\n",
       "      <td>0.013187</td>\n",
       "    </tr>\n",
       "    <tr>\n",
       "      <th>26</th>\n",
       "      <td>node1</td>\n",
       "      <td>PA0969;PA0970;PA0971;PA0972;PA0973;PA0974</td>\n",
       "      <td>0.010965</td>\n",
       "    </tr>\n",
       "    <tr>\n",
       "      <th>27</th>\n",
       "      <td>node1</td>\n",
       "      <td>PA4142;PA4143;PA4144</td>\n",
       "      <td>0.000000</td>\n",
       "    </tr>\n",
       "    <tr>\n",
       "      <th>28</th>\n",
       "      <td>node1</td>\n",
       "      <td>PA2193;PA2194;PA2195</td>\n",
       "      <td>0.002016</td>\n",
       "    </tr>\n",
       "    <tr>\n",
       "      <th>29</th>\n",
       "      <td>node1</td>\n",
       "      <td>PA3870;PA3871;PA3872;PA3873;PA3874;PA3875;PA38...</td>\n",
       "      <td>0.018182</td>\n",
       "    </tr>\n",
       "    <tr>\n",
       "      <th>...</th>\n",
       "      <td>...</td>\n",
       "      <td>...</td>\n",
       "      <td>...</td>\n",
       "    </tr>\n",
       "    <tr>\n",
       "      <th>170</th>\n",
       "      <td>node2</td>\n",
       "      <td>PA2903;PA2904;PA2905;PA2906</td>\n",
       "      <td>0.003650</td>\n",
       "    </tr>\n",
       "    <tr>\n",
       "      <th>171</th>\n",
       "      <td>node2</td>\n",
       "      <td>PA0751;PA0752;PA0753;PA0754;PA0755</td>\n",
       "      <td>0.005976</td>\n",
       "    </tr>\n",
       "    <tr>\n",
       "      <th>172</th>\n",
       "      <td>node2</td>\n",
       "      <td>PA4908;PA4909;PA4910;PA4911;PA4912</td>\n",
       "      <td>0.011364</td>\n",
       "    </tr>\n",
       "    <tr>\n",
       "      <th>173</th>\n",
       "      <td>node2</td>\n",
       "      <td>PA0622;PA0623;PA0624</td>\n",
       "      <td>0.000000</td>\n",
       "    </tr>\n",
       "    <tr>\n",
       "      <th>174</th>\n",
       "      <td>node2</td>\n",
       "      <td>PA0625;PA0626;PA0627</td>\n",
       "      <td>0.000000</td>\n",
       "    </tr>\n",
       "    <tr>\n",
       "      <th>175</th>\n",
       "      <td>node2</td>\n",
       "      <td>PA2411;PA2412;PA2413</td>\n",
       "      <td>0.001965</td>\n",
       "    </tr>\n",
       "    <tr>\n",
       "      <th>176</th>\n",
       "      <td>node2</td>\n",
       "      <td>PA2886;PA2887;PA2888;PA2889;PA2890;PA2891;PA2892</td>\n",
       "      <td>0.022822</td>\n",
       "    </tr>\n",
       "    <tr>\n",
       "      <th>177</th>\n",
       "      <td>node2</td>\n",
       "      <td>PA5221;PA5222;PA5223;PA5224;PA5225</td>\n",
       "      <td>0.013410</td>\n",
       "    </tr>\n",
       "    <tr>\n",
       "      <th>178</th>\n",
       "      <td>node2</td>\n",
       "      <td>PA2399;PA2400;PA2402</td>\n",
       "      <td>0.000000</td>\n",
       "    </tr>\n",
       "    <tr>\n",
       "      <th>179</th>\n",
       "      <td>node2</td>\n",
       "      <td>PA5006;PA5007;PA5008;PA5009;PA5010;PA5011;PA50...</td>\n",
       "      <td>0.015209</td>\n",
       "    </tr>\n",
       "    <tr>\n",
       "      <th>180</th>\n",
       "      <td>node2</td>\n",
       "      <td>PA3186;PA3187;PA3188;PA3189;PA3190</td>\n",
       "      <td>0.015504</td>\n",
       "    </tr>\n",
       "    <tr>\n",
       "      <th>181</th>\n",
       "      <td>node2</td>\n",
       "      <td>PA2564;PA2565;PA2566</td>\n",
       "      <td>0.000000</td>\n",
       "    </tr>\n",
       "    <tr>\n",
       "      <th>182</th>\n",
       "      <td>node2</td>\n",
       "      <td>PA0614;PA0615;PA0616</td>\n",
       "      <td>0.000000</td>\n",
       "    </tr>\n",
       "    <tr>\n",
       "      <th>183</th>\n",
       "      <td>node2</td>\n",
       "      <td>PA1070;PA1071;PA1072;PA1073</td>\n",
       "      <td>0.001905</td>\n",
       "    </tr>\n",
       "    <tr>\n",
       "      <th>184</th>\n",
       "      <td>node2</td>\n",
       "      <td>PA4863;PA4864;PA4865;PA4866;PA4867;PA4868</td>\n",
       "      <td>0.014953</td>\n",
       "    </tr>\n",
       "    <tr>\n",
       "      <th>185</th>\n",
       "      <td>node2</td>\n",
       "      <td>PA0628;PA0629;PA0630;PA0631;PA0632</td>\n",
       "      <td>0.022857</td>\n",
       "    </tr>\n",
       "    <tr>\n",
       "      <th>186</th>\n",
       "      <td>node2</td>\n",
       "      <td>PA4501;PA4502;PA4503;PA4504;PA4505;PA4506</td>\n",
       "      <td>0.029528</td>\n",
       "    </tr>\n",
       "    <tr>\n",
       "      <th>187</th>\n",
       "      <td>node2</td>\n",
       "      <td>PA4205;PA4206;PA4207;PA4208</td>\n",
       "      <td>0.016529</td>\n",
       "    </tr>\n",
       "    <tr>\n",
       "      <th>188</th>\n",
       "      <td>node2</td>\n",
       "      <td>PA4932;PA4933;PA4934;PA4935</td>\n",
       "      <td>0.015810</td>\n",
       "    </tr>\n",
       "    <tr>\n",
       "      <th>189</th>\n",
       "      <td>node2</td>\n",
       "      <td>PA2393;PA2394;PA2395</td>\n",
       "      <td>0.003839</td>\n",
       "    </tr>\n",
       "    <tr>\n",
       "      <th>190</th>\n",
       "      <td>node2</td>\n",
       "      <td>PA2911;PA2912;PA2913;PA2914</td>\n",
       "      <td>0.011070</td>\n",
       "    </tr>\n",
       "    <tr>\n",
       "      <th>191</th>\n",
       "      <td>node2</td>\n",
       "      <td>PA4754;PA4755;PA4756;PA4757;PA4758</td>\n",
       "      <td>0.031776</td>\n",
       "    </tr>\n",
       "    <tr>\n",
       "      <th>192</th>\n",
       "      <td>node2</td>\n",
       "      <td>PA3504;PA3505;PA3506;PA3507;PA3508;PA3509;PA35...</td>\n",
       "      <td>0.030710</td>\n",
       "    </tr>\n",
       "    <tr>\n",
       "      <th>193</th>\n",
       "      <td>node2</td>\n",
       "      <td>PA5097;PA5098;PA5099</td>\n",
       "      <td>0.004065</td>\n",
       "    </tr>\n",
       "    <tr>\n",
       "      <th>194</th>\n",
       "      <td>node2</td>\n",
       "      <td>PA2011;PA2012;PA2013;PA2014;PA2015</td>\n",
       "      <td>0.035849</td>\n",
       "    </tr>\n",
       "    <tr>\n",
       "      <th>195</th>\n",
       "      <td>node2</td>\n",
       "      <td>PA0744;PA0745;PA0746;PA0747</td>\n",
       "      <td>0.026667</td>\n",
       "    </tr>\n",
       "    <tr>\n",
       "      <th>196</th>\n",
       "      <td>node2</td>\n",
       "      <td>PA4371;PA4372;PA4373</td>\n",
       "      <td>0.013861</td>\n",
       "    </tr>\n",
       "    <tr>\n",
       "      <th>197</th>\n",
       "      <td>node2</td>\n",
       "      <td>PA4603;PA4604;PA4605;PA4606</td>\n",
       "      <td>0.023256</td>\n",
       "    </tr>\n",
       "    <tr>\n",
       "      <th>198</th>\n",
       "      <td>node2</td>\n",
       "      <td>PA1198;PA1199;PA1200</td>\n",
       "      <td>0.018622</td>\n",
       "    </tr>\n",
       "    <tr>\n",
       "      <th>199</th>\n",
       "      <td>node2</td>\n",
       "      <td>PA5455;PA5456;PA5457;PA5458;PA5459</td>\n",
       "      <td>0.037924</td>\n",
       "    </tr>\n",
       "  </tbody>\n",
       "</table>\n",
       "<p>200 rows × 3 columns</p>\n",
       "</div>"
      ],
      "text/plain": [
       "      node                                             operon   q_value\n",
       "0    node1  PA3327;PA3328;PA3329;PA3330;PA3331;PA3332;PA33...  0.000000\n",
       "1    node1  PA4250;PA4251;PA4252;PA4253;PA4254;PA4255;PA42...  0.000000\n",
       "2    node1  PA1714;PA1715;PA1716;PA1717;PA1718;PA1719;PA17...  0.000000\n",
       "3    node1          PA1806;PA1807;PA1808;PA1809;PA1810;PA1811  0.000000\n",
       "4    node1          PA4863;PA4864;PA4865;PA4866;PA4867;PA4868  0.000000\n",
       "5    node1  PA4242;PA4243;PA4244;PA4245;PA4246;PA4247;PA42...  0.004228\n",
       "6    node1  PA2637;PA2638;PA2639;PA2640;PA2641;PA2642;PA26...  0.000000\n",
       "7    node1  PA3799;PA3800;PA3801;PA3802;PA3803;PA3804;PA38...  0.002304\n",
       "8    node1                 PA0996;PA0997;PA0998;PA0999;PA1000  0.000000\n",
       "9    node1                        PA2066;PA2067;PA2068;PA2069  0.000000\n",
       "10   node1  PA1698;PA1699;PA1700;PA1701;PA1702;PA1703;PA17...  0.006696\n",
       "11   node1                 PA4773;PA4774;PA4775;PA4776;PA4777  0.002242\n",
       "12   node1          PA1900;PA1901;PA1902;PA1903;PA1904;PA1905  0.002169\n",
       "13   node1   PA1891;PA1892;PA1893;PA1894;PA1895;PA1896;PA1897  0.006579\n",
       "14   node1   PA3070;PA3071;PA3072;PA3073;PA3074;PA3075;PA3076  0.002151\n",
       "15   node1   PA1477;PA1478;PA1479;PA1480;PA1481;PA1482;PA1483  0.002179\n",
       "16   node1   PA4299;PA4300;PA4301;PA4302;PA4303;PA4304;PA4305  0.010917\n",
       "17   node1                        PA1656;PA1657;PA1658;PA1659  0.000000\n",
       "18   node1  PA3996;PA3997;PA3998;PA3999;PA4000;PA4001;PA40...  0.004525\n",
       "19   node1  PA1664;PA1665;PA1666;PA1667;PA1668;PA1669;PA16...  0.010823\n",
       "20   node1                 PA3515;PA3516;PA3517;PA3518;PA3519  0.004338\n",
       "21   node1  PA5553;PA5554;PA5555;PA5556;PA5557;PA5558;PA55...  0.002227\n",
       "22   node1                 PA2967;PA2968;PA2969;PA2970;PA2971  0.004338\n",
       "23   node1  PA3095;PA3096;PA3097;PA3098;PA3099;PA3100;PA31...  0.004608\n",
       "24   node1                 PA4462;PA4463;PA4464;PA4465;PA4466  0.008772\n",
       "25   node1                 PA4457;PA4458;PA4459;PA4460;PA4461  0.013187\n",
       "26   node1          PA0969;PA0970;PA0971;PA0972;PA0973;PA0974  0.010965\n",
       "27   node1                               PA4142;PA4143;PA4144  0.000000\n",
       "28   node1                               PA2193;PA2194;PA2195  0.002016\n",
       "29   node1  PA3870;PA3871;PA3872;PA3873;PA3874;PA3875;PA38...  0.018182\n",
       "..     ...                                                ...       ...\n",
       "170  node2                        PA2903;PA2904;PA2905;PA2906  0.003650\n",
       "171  node2                 PA0751;PA0752;PA0753;PA0754;PA0755  0.005976\n",
       "172  node2                 PA4908;PA4909;PA4910;PA4911;PA4912  0.011364\n",
       "173  node2                               PA0622;PA0623;PA0624  0.000000\n",
       "174  node2                               PA0625;PA0626;PA0627  0.000000\n",
       "175  node2                               PA2411;PA2412;PA2413  0.001965\n",
       "176  node2   PA2886;PA2887;PA2888;PA2889;PA2890;PA2891;PA2892  0.022822\n",
       "177  node2                 PA5221;PA5222;PA5223;PA5224;PA5225  0.013410\n",
       "178  node2                               PA2399;PA2400;PA2402  0.000000\n",
       "179  node2  PA5006;PA5007;PA5008;PA5009;PA5010;PA5011;PA50...  0.015209\n",
       "180  node2                 PA3186;PA3187;PA3188;PA3189;PA3190  0.015504\n",
       "181  node2                               PA2564;PA2565;PA2566  0.000000\n",
       "182  node2                               PA0614;PA0615;PA0616  0.000000\n",
       "183  node2                        PA1070;PA1071;PA1072;PA1073  0.001905\n",
       "184  node2          PA4863;PA4864;PA4865;PA4866;PA4867;PA4868  0.014953\n",
       "185  node2                 PA0628;PA0629;PA0630;PA0631;PA0632  0.022857\n",
       "186  node2          PA4501;PA4502;PA4503;PA4504;PA4505;PA4506  0.029528\n",
       "187  node2                        PA4205;PA4206;PA4207;PA4208  0.016529\n",
       "188  node2                        PA4932;PA4933;PA4934;PA4935  0.015810\n",
       "189  node2                               PA2393;PA2394;PA2395  0.003839\n",
       "190  node2                        PA2911;PA2912;PA2913;PA2914  0.011070\n",
       "191  node2                 PA4754;PA4755;PA4756;PA4757;PA4758  0.031776\n",
       "192  node2  PA3504;PA3505;PA3506;PA3507;PA3508;PA3509;PA35...  0.030710\n",
       "193  node2                               PA5097;PA5098;PA5099  0.004065\n",
       "194  node2                 PA2011;PA2012;PA2013;PA2014;PA2015  0.035849\n",
       "195  node2                        PA0744;PA0745;PA0746;PA0747  0.026667\n",
       "196  node2                               PA4371;PA4372;PA4373  0.013861\n",
       "197  node2                        PA4603;PA4604;PA4605;PA4606  0.023256\n",
       "198  node2                               PA1198;PA1199;PA1200  0.018622\n",
       "199  node2                 PA5455;PA5456;PA5457;PA5458;PA5459  0.037924\n",
       "\n",
       "[200 rows x 3 columns]"
      ]
     },
     "execution_count": 9,
     "metadata": {},
     "output_type": "execute_result"
    }
   ],
   "source": [
    "# get genes in each node\n",
    "operon_node = pd.read_csv(\"data/inline-supplementary-material-4.csv\")\n",
    "operon_node.head(200)"
   ]
  },
  {
   "cell_type": "markdown",
   "metadata": {
    "slideshow": {
     "slide_type": "slide"
    }
   },
   "source": [
    "Extracted features represented sequence differences between strains\n",
    "![](Tan_etal_2016_Fig3.png)"
   ]
  },
  {
   "cell_type": "markdown",
   "metadata": {
    "slideshow": {
     "slide_type": "slide"
    }
   },
   "source": [
    "Node 42 reflected _Anr_ activity in both existing and new experiments\n",
    "![](Tan_etal_2016_Fig4.png)"
   ]
  },
  {
   "cell_type": "markdown",
   "metadata": {
    "slideshow": {
     "slide_type": "slide"
    }
   },
   "source": [
    "Reanalysis of previous study,\n",
    "used [KEGG pathway database](http://www.genome.jp/kegg/pathway.html?sess=2764b8338258d6286de91bbebe6faf46) to confirm hidden features extracted\n",
    "![](Tan_etal_2016_Fig5.png)"
   ]
  },
  {
   "cell_type": "code",
   "execution_count": 16,
   "metadata": {
    "collapsed": false,
    "slideshow": {
     "slide_type": "slide"
    }
   },
   "outputs": [
    {
     "data": {
      "text/plain": [
       "(950, 51)"
      ]
     },
     "execution_count": 16,
     "metadata": {},
     "output_type": "execute_result"
    }
   ],
   "source": [
    "# ADAGE analysis of ALL Pseudomonas aeruginosa data from ArrayExpress for all 50 nodes\n",
    "new_activities = pd.read_csv(\"data/inline-supplementary-material-5.csv\")\n",
    "new_activities.head()\n",
    "new_activities.shape"
   ]
  },
  {
   "cell_type": "markdown",
   "metadata": {
    "slideshow": {
     "slide_type": "slide"
    }
   },
   "source": [
    "# Comparison with PCA/ICA\n",
    "* Similar patterns, need to examine all PC whereas nodes of importance capture combination of features\n",
    "<img src=\"S1A.png\" width=\"600\">"
   ]
  },
  {
   "cell_type": "markdown",
   "metadata": {
    "slideshow": {
     "slide_type": "slide"
    }
   },
   "source": [
    "# Comparison with PCA/ICA (continued)\n",
    "* across all PC and all nodes\n",
    "<img src=\"S1B.png\" width=\"600\">"
   ]
  },
  {
   "cell_type": "markdown",
   "metadata": {
    "slideshow": {
     "slide_type": "slide"
    }
   },
   "source": [
    "<img src=\"S2.png\" width=\"600\">"
   ]
  },
  {
   "cell_type": "markdown",
   "metadata": {
    "slideshow": {
     "slide_type": "slide"
    }
   },
   "source": [
    "# Marine Microbial Eukaryotic Transcriptome Sequencing Project\n",
    "* 678 marine microbes, [Keeling et al. 2014](http://journals.plos.org/plosbiology/article?id=10.1371/journal.pbio.1001889) \n",
    "* Heterokonta unicellular eukaryotes: dinoflagellates, ciliates, diatoms, etc.\n",
    "* 40 phyla\n",
    "<img src=\"10.1371-journal.pbio.1001889.g002.png\" height=\"100\">"
   ]
  },
  {
   "cell_type": "code",
   "execution_count": 79,
   "metadata": {
    "collapsed": false,
    "slideshow": {
     "slide_type": "fragment"
    }
   },
   "outputs": [
    {
     "data": {
      "text/html": [
       "<div>\n",
       "<table border=\"1\" class=\"dataframe\">\n",
       "  <thead>\n",
       "    <tr style=\"text-align: right;\">\n",
       "      <th></th>\n",
       "      <th>Unnamed: 0</th>\n",
       "      <th>OG_091326</th>\n",
       "      <th>OG_091320</th>\n",
       "      <th>OG_291897</th>\n",
       "      <th>OG_334539</th>\n",
       "      <th>OG_019415</th>\n",
       "      <th>OG_019412</th>\n",
       "      <th>OG_019418</th>\n",
       "      <th>OG_293803</th>\n",
       "      <th>OG_324372</th>\n",
       "      <th>...</th>\n",
       "      <th>OG_150566</th>\n",
       "      <th>OG_334536</th>\n",
       "      <th>OG_334537</th>\n",
       "      <th>OG_334534</th>\n",
       "      <th>OG_293804</th>\n",
       "      <th>OG_334532</th>\n",
       "      <th>OG_143642</th>\n",
       "      <th>OG_321249</th>\n",
       "      <th>OG_092677</th>\n",
       "      <th>OG_092673</th>\n",
       "    </tr>\n",
       "  </thead>\n",
       "  <tbody>\n",
       "    <tr>\n",
       "      <th>0</th>\n",
       "      <td>SRR1300371</td>\n",
       "      <td>0</td>\n",
       "      <td>2270</td>\n",
       "      <td>0</td>\n",
       "      <td>0</td>\n",
       "      <td>0</td>\n",
       "      <td>0</td>\n",
       "      <td>0</td>\n",
       "      <td>0</td>\n",
       "      <td>0</td>\n",
       "      <td>...</td>\n",
       "      <td>0</td>\n",
       "      <td>0</td>\n",
       "      <td>0</td>\n",
       "      <td>0</td>\n",
       "      <td>0</td>\n",
       "      <td>0</td>\n",
       "      <td>0</td>\n",
       "      <td>0</td>\n",
       "      <td>0</td>\n",
       "      <td>0</td>\n",
       "    </tr>\n",
       "    <tr>\n",
       "      <th>1</th>\n",
       "      <td>SRR1328074</td>\n",
       "      <td>0</td>\n",
       "      <td>0</td>\n",
       "      <td>0</td>\n",
       "      <td>0</td>\n",
       "      <td>0</td>\n",
       "      <td>0</td>\n",
       "      <td>0</td>\n",
       "      <td>0</td>\n",
       "      <td>0</td>\n",
       "      <td>...</td>\n",
       "      <td>0</td>\n",
       "      <td>0</td>\n",
       "      <td>0</td>\n",
       "      <td>0</td>\n",
       "      <td>0</td>\n",
       "      <td>0</td>\n",
       "      <td>0</td>\n",
       "      <td>0</td>\n",
       "      <td>0</td>\n",
       "      <td>0</td>\n",
       "    </tr>\n",
       "    <tr>\n",
       "      <th>2</th>\n",
       "      <td>SRR1300355</td>\n",
       "      <td>0</td>\n",
       "      <td>0</td>\n",
       "      <td>0</td>\n",
       "      <td>0</td>\n",
       "      <td>0</td>\n",
       "      <td>0</td>\n",
       "      <td>0</td>\n",
       "      <td>0</td>\n",
       "      <td>0</td>\n",
       "      <td>...</td>\n",
       "      <td>0</td>\n",
       "      <td>0</td>\n",
       "      <td>0</td>\n",
       "      <td>0</td>\n",
       "      <td>0</td>\n",
       "      <td>0</td>\n",
       "      <td>0</td>\n",
       "      <td>0</td>\n",
       "      <td>0</td>\n",
       "      <td>0</td>\n",
       "    </tr>\n",
       "    <tr>\n",
       "      <th>3</th>\n",
       "      <td>SRR1300497</td>\n",
       "      <td>0</td>\n",
       "      <td>983</td>\n",
       "      <td>0</td>\n",
       "      <td>0</td>\n",
       "      <td>0</td>\n",
       "      <td>0</td>\n",
       "      <td>0</td>\n",
       "      <td>0</td>\n",
       "      <td>0</td>\n",
       "      <td>...</td>\n",
       "      <td>0</td>\n",
       "      <td>0</td>\n",
       "      <td>0</td>\n",
       "      <td>0</td>\n",
       "      <td>0</td>\n",
       "      <td>0</td>\n",
       "      <td>0</td>\n",
       "      <td>0</td>\n",
       "      <td>0</td>\n",
       "      <td>0</td>\n",
       "    </tr>\n",
       "    <tr>\n",
       "      <th>4</th>\n",
       "      <td>SRR1300495</td>\n",
       "      <td>0</td>\n",
       "      <td>0</td>\n",
       "      <td>0</td>\n",
       "      <td>0</td>\n",
       "      <td>0</td>\n",
       "      <td>0</td>\n",
       "      <td>0</td>\n",
       "      <td>0</td>\n",
       "      <td>0</td>\n",
       "      <td>...</td>\n",
       "      <td>1166</td>\n",
       "      <td>7259</td>\n",
       "      <td>172</td>\n",
       "      <td>2337</td>\n",
       "      <td>0</td>\n",
       "      <td>372</td>\n",
       "      <td>0</td>\n",
       "      <td>0</td>\n",
       "      <td>0</td>\n",
       "      <td>0</td>\n",
       "    </tr>\n",
       "  </tbody>\n",
       "</table>\n",
       "<p>5 rows × 80910 columns</p>\n",
       "</div>"
      ],
      "text/plain": [
       "   Unnamed: 0  OG_091326  OG_091320  OG_291897  OG_334539  OG_019415  \\\n",
       "0  SRR1300371          0       2270          0          0          0   \n",
       "1  SRR1328074          0          0          0          0          0   \n",
       "2  SRR1300355          0          0          0          0          0   \n",
       "3  SRR1300497          0        983          0          0          0   \n",
       "4  SRR1300495          0          0          0          0          0   \n",
       "\n",
       "   OG_019412  OG_019418  OG_293803  OG_324372    ...      OG_150566  \\\n",
       "0          0          0          0          0    ...              0   \n",
       "1          0          0          0          0    ...              0   \n",
       "2          0          0          0          0    ...              0   \n",
       "3          0          0          0          0    ...              0   \n",
       "4          0          0          0          0    ...           1166   \n",
       "\n",
       "   OG_334536  OG_334537  OG_334534  OG_293804  OG_334532  OG_143642  \\\n",
       "0          0          0          0          0          0          0   \n",
       "1          0          0          0          0          0          0   \n",
       "2          0          0          0          0          0          0   \n",
       "3          0          0          0          0          0          0   \n",
       "4       7259        172       2337          0        372          0   \n",
       "\n",
       "   OG_321249  OG_092677  OG_092673  \n",
       "0          0          0          0  \n",
       "1          0          0          0  \n",
       "2          0          0          0  \n",
       "3          0          0          0  \n",
       "4          0          0          0  \n",
       "\n",
       "[5 rows x 80910 columns]"
      ]
     },
     "execution_count": 79,
     "metadata": {},
     "output_type": "execute_result"
    }
   ],
   "source": [
    "mmetsp = pd.read_csv(\"https://raw.githubusercontent.com/glympsed/glympsed/master/mmetsp/batch1.mmetsp.OGcounts.filtered.csv\")\n",
    "mmetsp.shape\n",
    "mmetsp.head()"
   ]
  },
  {
   "cell_type": "markdown",
   "metadata": {
    "slideshow": {
     "slide_type": "slide"
    }
   },
   "source": [
    "# Conclusions\n",
    "* ADAGE, with a denoising autoencoder approach provides the opportunity to identify biologically-important patterns\n",
    "* Will be very useful to discover pathways of importance in nonmodel species"
   ]
  }
 ],
 "metadata": {
  "celltoolbar": "Slideshow",
  "kernelspec": {
   "display_name": "Python 2",
   "language": "python",
   "name": "python2"
  },
  "language_info": {
   "codemirror_mode": {
    "name": "ipython",
    "version": 2
   },
   "file_extension": ".py",
   "mimetype": "text/x-python",
   "name": "python",
   "nbconvert_exporter": "python",
   "pygments_lexer": "ipython2",
   "version": "2.7.12"
  }
 },
 "nbformat": 4,
 "nbformat_minor": 1
}
